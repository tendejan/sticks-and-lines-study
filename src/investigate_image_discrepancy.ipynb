{
 "cells": [
  {
   "cell_type": "code",
   "execution_count": 40,
   "id": "c2fbbbcd",
   "metadata": {},
   "outputs": [],
   "source": [
    "from PIL import Image\n",
    "import matplotlib.pyplot as plt\n",
    "import subprocess\n",
    "import pandas as pd\n",
    "import numpy as np"
   ]
  },
  {
   "cell_type": "markdown",
   "id": "f91e8384",
   "metadata": {},
   "source": [
    "# Constants"
   ]
  },
  {
   "cell_type": "code",
   "execution_count": 41,
   "id": "08e43888",
   "metadata": {},
   "outputs": [],
   "source": [
    "ROOT_DIRECTORY = \"../\"\n",
    "IMAGE_NAME = \"rendition_6266.jpg\""
   ]
  },
  {
   "cell_type": "markdown",
   "id": "5e77519d",
   "metadata": {},
   "source": [
    "# Find all the images that match in the random datasets"
   ]
  },
  {
   "cell_type": "markdown",
   "id": "994f4f6e",
   "metadata": {},
   "source": [
    "### class to facilitate easier lookup"
   ]
  },
  {
   "cell_type": "code",
   "execution_count": 42,
   "id": "b5e05127",
   "metadata": {},
   "outputs": [],
   "source": [
    "class Dataset:\n",
    "    def __init__(self):\n",
    "        pass"
   ]
  },
  {
   "cell_type": "code",
   "execution_count": 43,
   "id": "1bf8cb0e",
   "metadata": {},
   "outputs": [],
   "source": [
    "command = [\"find\", ROOT_DIRECTORY, \"-name\", IMAGE_NAME]\n",
    "result = subprocess.run(\n",
    "    command,\n",
    "    capture_output=True,\n",
    "    text=True,\n",
    "    check=True\n",
    ")\n",
    "\n",
    "std_out = result.stdout\n",
    "std_err = result.stderr\n",
    "\n",
    "if std_err:\n",
    "    print(f\"STDERR:\\n{std_err}\")\n",
    "\n",
    "image_paths = std_out.splitlines()\n",
    "    "
   ]
  },
  {
   "cell_type": "code",
   "execution_count": 44,
   "id": "8f7ef5bd",
   "metadata": {},
   "outputs": [],
   "source": [
    "def join_dataframes(rng_method):\n",
    "    ellipse_props = pd.read_csv(f\"../data/null_datasets/{rng_method}/{rng_method}_region_props.csv\")\n",
    "    rotation_props = pd.read_csv(f\"../data/null_datasets/{rng_method}/rotation_data.csv\")\n",
    "    rotation_props['image'] = rotation_props[\"KID_IDFrameKey\"].apply(lambda x: f\"rendition_{x}.jpg\")\n",
    "    full_dataframe = pd.merge(rotation_props, ellipse_props, on='image')\n",
    "    return full_dataframe"
   ]
  },
  {
   "cell_type": "code",
   "execution_count": 45,
   "id": "d3c1093f",
   "metadata": {},
   "outputs": [
    {
     "data": {
      "text/html": [
       "<div>\n",
       "<style scoped>\n",
       "    .dataframe tbody tr th:only-of-type {\n",
       "        vertical-align: middle;\n",
       "    }\n",
       "\n",
       "    .dataframe tbody tr th {\n",
       "        vertical-align: top;\n",
       "    }\n",
       "\n",
       "    .dataframe thead th {\n",
       "        text-align: right;\n",
       "    }\n",
       "</style>\n",
       "<table border=\"1\" class=\"dataframe\">\n",
       "  <thead>\n",
       "    <tr style=\"text-align: right;\">\n",
       "      <th></th>\n",
       "      <th>KID_IDFrameKey</th>\n",
       "      <th>Euler_X</th>\n",
       "      <th>Euler_Y</th>\n",
       "      <th>Euler_Z</th>\n",
       "      <th>Object</th>\n",
       "      <th>RNG_method</th>\n",
       "      <th>image</th>\n",
       "      <th>area</th>\n",
       "      <th>centroid_x</th>\n",
       "      <th>centroid_y</th>\n",
       "      <th>axis_major_length</th>\n",
       "      <th>axis_minor_length</th>\n",
       "      <th>axis_ratio_minor_to_major</th>\n",
       "      <th>orientation_radians</th>\n",
       "    </tr>\n",
       "  </thead>\n",
       "  <tbody>\n",
       "    <tr>\n",
       "      <th>0</th>\n",
       "      <td>0</td>\n",
       "      <td>54.928246</td>\n",
       "      <td>-7.050988</td>\n",
       "      <td>-6.160295</td>\n",
       "      <td>CameraNovel</td>\n",
       "      <td>PHILOX</td>\n",
       "      <td>rendition_0.jpg</td>\n",
       "      <td>13438</td>\n",
       "      <td>397.515478</td>\n",
       "      <td>292.305775</td>\n",
       "      <td>155.439710</td>\n",
       "      <td>115.763042</td>\n",
       "      <td>0.744746</td>\n",
       "      <td>-0.012135</td>\n",
       "    </tr>\n",
       "    <tr>\n",
       "      <th>1</th>\n",
       "      <td>1</td>\n",
       "      <td>-149.755669</td>\n",
       "      <td>-125.054396</td>\n",
       "      <td>-60.918645</td>\n",
       "      <td>HighChairNovel</td>\n",
       "      <td>PHILOX</td>\n",
       "      <td>rendition_1.jpg</td>\n",
       "      <td>11230</td>\n",
       "      <td>391.728317</td>\n",
       "      <td>295.905610</td>\n",
       "      <td>218.206215</td>\n",
       "      <td>97.717575</td>\n",
       "      <td>0.447822</td>\n",
       "      <td>0.586492</td>\n",
       "    </tr>\n",
       "    <tr>\n",
       "      <th>2</th>\n",
       "      <td>2</td>\n",
       "      <td>149.734503</td>\n",
       "      <td>-115.618892</td>\n",
       "      <td>6.187812</td>\n",
       "      <td>TrainNovel</td>\n",
       "      <td>PHILOX</td>\n",
       "      <td>rendition_2.jpg</td>\n",
       "      <td>14069</td>\n",
       "      <td>405.176772</td>\n",
       "      <td>306.684839</td>\n",
       "      <td>167.142148</td>\n",
       "      <td>110.376158</td>\n",
       "      <td>0.660373</td>\n",
       "      <td>-0.130349</td>\n",
       "    </tr>\n",
       "    <tr>\n",
       "      <th>3</th>\n",
       "      <td>3</td>\n",
       "      <td>93.343079</td>\n",
       "      <td>-153.558849</td>\n",
       "      <td>-42.971346</td>\n",
       "      <td>ShovelNovel</td>\n",
       "      <td>PHILOX</td>\n",
       "      <td>rendition_3.jpg</td>\n",
       "      <td>18550</td>\n",
       "      <td>408.289057</td>\n",
       "      <td>294.208086</td>\n",
       "      <td>274.560144</td>\n",
       "      <td>93.623960</td>\n",
       "      <td>0.340996</td>\n",
       "      <td>0.817898</td>\n",
       "    </tr>\n",
       "    <tr>\n",
       "      <th>4</th>\n",
       "      <td>4</td>\n",
       "      <td>40.487199</td>\n",
       "      <td>107.198690</td>\n",
       "      <td>-40.897869</td>\n",
       "      <td>CameraNovel</td>\n",
       "      <td>PHILOX</td>\n",
       "      <td>rendition_4.jpg</td>\n",
       "      <td>11300</td>\n",
       "      <td>409.324779</td>\n",
       "      <td>286.665929</td>\n",
       "      <td>132.554690</td>\n",
       "      <td>113.857902</td>\n",
       "      <td>0.858950</td>\n",
       "      <td>-1.293922</td>\n",
       "    </tr>\n",
       "  </tbody>\n",
       "</table>\n",
       "</div>"
      ],
      "text/plain": [
       "   KID_IDFrameKey     Euler_X     Euler_Y    Euler_Z          Object  \\\n",
       "0               0   54.928246   -7.050988  -6.160295     CameraNovel   \n",
       "1               1 -149.755669 -125.054396 -60.918645  HighChairNovel   \n",
       "2               2  149.734503 -115.618892   6.187812      TrainNovel   \n",
       "3               3   93.343079 -153.558849 -42.971346     ShovelNovel   \n",
       "4               4   40.487199  107.198690 -40.897869     CameraNovel   \n",
       "\n",
       "  RNG_method            image   area  centroid_x  centroid_y  \\\n",
       "0     PHILOX  rendition_0.jpg  13438  397.515478  292.305775   \n",
       "1     PHILOX  rendition_1.jpg  11230  391.728317  295.905610   \n",
       "2     PHILOX  rendition_2.jpg  14069  405.176772  306.684839   \n",
       "3     PHILOX  rendition_3.jpg  18550  408.289057  294.208086   \n",
       "4     PHILOX  rendition_4.jpg  11300  409.324779  286.665929   \n",
       "\n",
       "   axis_major_length  axis_minor_length  axis_ratio_minor_to_major  \\\n",
       "0         155.439710         115.763042                   0.744746   \n",
       "1         218.206215          97.717575                   0.447822   \n",
       "2         167.142148         110.376158                   0.660373   \n",
       "3         274.560144          93.623960                   0.340996   \n",
       "4         132.554690         113.857902                   0.858950   \n",
       "\n",
       "   orientation_radians  \n",
       "0            -0.012135  \n",
       "1             0.586492  \n",
       "2            -0.130349  \n",
       "3             0.817898  \n",
       "4            -1.293922  "
      ]
     },
     "execution_count": 45,
     "metadata": {},
     "output_type": "execute_result"
    }
   ],
   "source": [
    "full_philox = join_dataframes(\"PHILOX\")\n",
    "full_philox.head()"
   ]
  },
  {
   "cell_type": "code",
   "execution_count": 48,
   "id": "ec55522e",
   "metadata": {},
   "outputs": [],
   "source": [
    "def extract_relevant_vals(dataframe, image):\n",
    "    row = dataframe.loc[dataframe['image'] == image].iloc[0]\n",
    "    x = row['Euler_X']\n",
    "    y = row['Euler_Y']\n",
    "    z = row['Euler_Z']\n",
    "    toy = row[\"Object\"]\n",
    "    area = row[\"area\"]\n",
    "    angle = np.rad2deg(row['orientation_radians'])\n",
    "    return f\"x:{x:.2f}, y:{y:.2f}, z:{z:.2f}\\narea:{area}, toy:{toy}\\nangle:{angle:.2f}\""
   ]
  },
  {
   "cell_type": "code",
   "execution_count": 49,
   "id": "e8609ba8",
   "metadata": {},
   "outputs": [
    {
     "name": "stderr",
     "output_type": "stream",
     "text": [
      "/tmp/ipykernel_1356/1313857460.py:13: UserWarning: FigureCanvasAgg is non-interactive, and thus cannot be shown\n",
      "  fig.show()\n"
     ]
    },
    {
     "data": {
      "image/png": "[encoded data removed]",
      "text/plain": [
       "<Figure size 640x480 with 5 Axes>"
      ]
     },
     "metadata": {},
     "output_type": "display_data"
    }
   ],
   "source": [
    "fig, ax = plt.subplots(1, len(image_paths))\n",
    "for i, path in enumerate(image_paths):\n",
    "    img = Image.open(path)\n",
    "    _, _, _, rng_method, _, file_name = path.split(\"/\")\n",
    "    full_df = join_dataframes(rng_method)\n",
    "    stat_string = extract_relevant_vals(full_df, file_name)\n",
    "    ax[i].imshow(img)\n",
    "    ax[i].set_title(f\"{rng_method}\\n{file_name}\\n{stat_string}\", fontsize=6)\n",
    "    ax[i].set_xticks([])\n",
    "    ax[i].set_yticks([])\n",
    "\n",
    "fig.tight_layout()\n",
    "fig.show()"
   ]
  },
  {
   "cell_type": "markdown",
   "id": "4f5f6972",
   "metadata": {},
   "source": [
    "# Display each image"
   ]
  }
 ],
 "metadata": {
  "kernelspec": {
   "display_name": "Python 3",
   "language": "python",
   "name": "python3"
  },
  "language_info": {
   "codemirror_mode": {
    "name": "ipython",
    "version": 3
   },
   "file_extension": ".py",
   "mimetype": "text/x-python",
   "name": "python",
   "nbconvert_exporter": "python",
   "pygments_lexer": "ipython3",
   "version": "3.9.23"
  }
 },
 "nbformat": 4,
 "nbformat_minor": 5
}
