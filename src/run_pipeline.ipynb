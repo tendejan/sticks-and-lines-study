{
 "cells": [
  {
   "cell_type": "markdown",
   "id": "ea44d8b2",
   "metadata": {},
   "source": [
    "## Required Constants"
   ]
  },
  {
   "cell_type": "code",
   "execution_count": null,
   "id": "a83d178f",
   "metadata": {},
   "outputs": [],
   "source": [
    "OUTPUT_DIRECTORY = \"\"\n",
    "\n",
    "EXPERIMENTAL_INPUT_CSV = \"\"\n",
    "\n",
    "NULL_SAMPLE_SIZE = 5000\n",
    "\n",
    "TEST_SAMPLE_SIZE = 5000"
   ]
  },
  {
   "cell_type": "code",
   "execution_count": null,
   "id": "6f8ee4fc",
   "metadata": {},
   "outputs": [],
   "source": [
    "class Dataset:\n",
    "    def __init__(self):\n",
    "        self.directories = {\n",
    "            \"input\": None,\n",
    "            \"models\": None,\n",
    "            \"output\": None,\n",
    "            \"renditions\": None,\n",
    "            \"intermediate\": None,\n",
    "            \"visualizations\": None,\n",
    "            \"plots\": None,\n",
    "            \"validation\": None\n",
    "        }\n",
    "        self.csv_paths = {\n",
    "            \"rotation_data\": None,\n",
    "            \"region_props\": None,\n",
    "            \"final_results\": None\n",
    "        }\n",
    "        self.pipeline_functions = {\n",
    "            \"get_rotation_data\": None,\n",
    "            \"get_renditions\": None,\n",
    "            \"get_region_props\": None,\n",
    "            \"get_edge_entropy\": None,\n",
    "            \"get_visualizations\": None,\n",
    "            \"cleanup\": None\n",
    "        }\n",
    "\n",
    "    def create_directories(self):\n",
    "        ...\n",
    "    \n",
    "    def run_pipeline(self):\n",
    "        ...\n",
    "\n",
    "    def get_rotation_data(self):\n",
    "        ...\n",
    "\n",
    "    def get_renditions(self):\n",
    "        ...\n",
    "\n",
    "    def get_region_props(self):\n",
    "        ...\n",
    "    \n",
    "    def get_edge_entropy(self):\n",
    "        ...\n",
    "\n",
    "    def get_visualizations(self):\n",
    "        ...\n",
    "\n",
    "    def cleanup(self):\n",
    "        ..."
   ]
  }
 ],
 "metadata": {
  "language_info": {
   "name": "python"
  }
 },
 "nbformat": 4,
 "nbformat_minor": 5
}
