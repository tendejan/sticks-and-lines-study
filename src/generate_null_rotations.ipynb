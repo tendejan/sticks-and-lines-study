{
 "cells": [
  {
   "cell_type": "code",
   "execution_count": null,
   "id": "ae90e6b3",
   "metadata": {},
   "outputs": [],
   "source": [
    "import polars as pl\n",
    "import numpy as np\n",
    "from numpy.random import PCG64, PCG64DXSM, Philox, MT19937, SFC64\n",
    "from scipy.spatial.transform import Rotation\n",
    "import os\n",
    "from datetime import datetime\n",
    "import logging\n",
    "import glob\n",
    "from novel_toy_tools.utils import generate_renditions\n",
    "\n",
    "RANDOM_GENERATORS = {\n",
    "            \"PCG64\": PCG64,\n",
    "            \"PCG64DXSM\": PCG64DXSM,\n",
    "            \"MT19937\": MT19937,\n",
    "            \"PHILOX\": Philox,\n",
    "            \"SFC64\": SFC64}\n",
    "\n",
    "class NullGenerator():\n",
    "    def __init__(self, out_dir:os.PathLike, object_directory:os.PathLike, rng_method, RANDOM_SEED):\n",
    "        #set up the directories and metadata\n",
    "        os.makedirs(out_dir, exist_ok=True)\n",
    "        self.rendition_dir = os.path.join(out_dir, \"renditions\")\n",
    "        os.makedirs(self.rendition_dir, exist_ok=True)\n",
    "\n",
    "        #create logger\n",
    "        log_path = os.path.join(out_dir, \"runtime.log\")\n",
    "        logging.basicConfig(\n",
    "            filename=log_path,\n",
    "            level=logging.INFO,\n",
    "            format='%(asctime)s - %(levelname)s - %(name)s - %(message)s',\n",
    "            datefmt='%Y-%m-%d %H:%M:%S'\n",
    "        )\n",
    "        self.log = logging.getLogger() #TODO log\n",
    "\n",
    "\n",
    "        self.meta = {\n",
    "            \"out_dir\": out_dir,\n",
    "            \"log_path\": log_path,\n",
    "            \"object_dir\": object_directory,\n",
    "            \"rendition_dir\": self.rendition_dir,\n",
    "            \"generation_start_time\": datetime.now(), #convert this to whatever format when saving\n",
    "            \"euler_order\": \"YZX\",\n",
    "            \"random_seed\": RANDOM_SEED,\n",
    "            \"rng_method\": rng_method,\n",
    "\n",
    "        }\n",
    "\n",
    "        #TODO maybe remove these\n",
    "        self.object_directory = object_directory\n",
    "        self.rng_method = rng_method\n",
    "        self.RANDOM_SEED = RANDOM_SEED\n",
    "        self.rotation_set = None\n",
    "\n",
    "    def gen_random_rotations(self, n):\n",
    "        object_files = glob.glob(os.path.join(self.object_directory, \"*.obj\"))\n",
    "        objects = [os.path.splitext(os.path.basename(file))[0] for file in object_files]\n",
    "        object_assignments = [objects[i % len(objects)] for i in range(n)]\n",
    "        primary_keys = [f\"{n}_{object_name}\" for n, object_name in enumerate(object_assignments)]\n",
    "\n",
    "        self.log.info(\"generating random rotations\")\n",
    "        random_generator = np.random.Generator(RANDOM_GENERATORS[self.rng_method](seed=self.RANDOM_SEED))\n",
    "        rotation_set = Rotation.random(n, random_state=random_generator).as_euler(seq=self.meta[\"euler_order\"], degrees=True)\n",
    "        rng_data = [self.rng_method] * n\n",
    "        self.dataframe = pl.DataFrame({\n",
    "            \"KID_IDFrameKey\": primary_keys,\n",
    "            \"Euler_X\": rotation_set[:, 2],\n",
    "            \"Euler_Y\": rotation_set[:, 0],\n",
    "            \"Euler_Z\": rotation_set[:, 1],\n",
    "            \"Object\": object_assignments,\n",
    "            \"RNG_method\": rng_data\n",
    "        })\n",
    "        self.meta.update({\"rotation_data_path\": os.path.join(self.meta[\"out_dir\"], \"rotation_data.csv\")})\n",
    "\n",
    "        self.dataframe.write_csv(self.meta[\"rotation_data_path\"])\n",
    "        generate_renditions(self.meta['rotation_data_path'], self.meta['rendition_dir'], self.meta['object_dir'])"
   ]
  },
  {
   "cell_type": "code",
   "execution_count": 11,
   "id": "f4564f2a",
   "metadata": {},
   "outputs": [
    {
     "name": "stdout",
     "output_type": "stream",
     "text": [
      "Saving renditions to /workspace/data/null_datasets/PCG64/renditions\n"
     ]
    },
    {
     "name": "stderr",
     "output_type": "stream",
     "text": [
      "Generating Renditions: 100%|██████████| 1000/1000 [00:03<00:00, 290.66it/s]\n"
     ]
    },
    {
     "name": "stdout",
     "output_type": "stream",
     "text": [
      "Saving renditions to /workspace/data/null_datasets/PCG64DXSM/renditions\n"
     ]
    },
    {
     "name": "stderr",
     "output_type": "stream",
     "text": [
      "Generating Renditions: 100%|██████████| 1000/1000 [00:03<00:00, 311.75it/s]"
     ]
    },
    {
     "name": "stdout",
     "output_type": "stream",
     "text": [
      "Saving renditions to /workspace/data/null_datasets/MT19937/renditions\n"
     ]
    },
    {
     "name": "stderr",
     "output_type": "stream",
     "text": [
      "\n",
      "Generating Renditions: 100%|██████████| 1000/1000 [00:03<00:00, 304.45it/s]\n"
     ]
    },
    {
     "name": "stdout",
     "output_type": "stream",
     "text": [
      "Saving renditions to /workspace/data/null_datasets/PHILOX/renditions\n"
     ]
    },
    {
     "name": "stderr",
     "output_type": "stream",
     "text": [
      "Generating Renditions: 100%|██████████| 1000/1000 [00:03<00:00, 282.73it/s]\n"
     ]
    },
    {
     "name": "stdout",
     "output_type": "stream",
     "text": [
      "Saving renditions to /workspace/data/null_datasets/SFC64/renditions\n"
     ]
    },
    {
     "name": "stderr",
     "output_type": "stream",
     "text": [
      "Generating Renditions: 100%|██████████| 1000/1000 [00:04<00:00, 240.70it/s]\n"
     ]
    }
   ],
   "source": [
    "#init some different random number generators so we can try them all\n",
    "RANDOM_SEED = 42\n",
    "\n",
    "random_generators = [ \"PCG64\", \"PCG64DXSM\", \"MT19937\", \"PHILOX\", \"SFC64\"]\n",
    "SAMPLE_SIZE = 1000\n",
    "\n",
    "out_directory = \"/workspace/data/null_datasets\"\n",
    "os.makedirs(out_directory, exist_ok=True)\n",
    "\n",
    "for random_generator in random_generators:\n",
    "    out_path = os.path.join(out_directory, random_generator)\n",
    "    gen = NullGenerator(out_path, \"/workspace/data/PrefViews Null 3D objects\", random_generator, RANDOM_SEED)\n",
    "    gen.gen_random_rotations(SAMPLE_SIZE)"
   ]
  }
 ],
 "metadata": {
  "kernelspec": {
   "display_name": "Python 3",
   "language": "python",
   "name": "python3"
  },
  "language_info": {
   "codemirror_mode": {
    "name": "ipython",
    "version": 3
   },
   "file_extension": ".py",
   "mimetype": "text/x-python",
   "name": "python",
   "nbconvert_exporter": "python",
   "pygments_lexer": "ipython3",
   "version": "3.9.23"
  }
 },
 "nbformat": 4,
 "nbformat_minor": 5
}
