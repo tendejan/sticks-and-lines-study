{
 "cells": [
  {
   "cell_type": "code",
   "execution_count": 118,
   "id": "57fd2b3f",
   "metadata": {},
   "outputs": [],
   "source": [
    "from os import makedirs\n",
    "from os.path import join, splitext, basename\n",
    "DIR_ROOT = \"../data/test_dataset\"\n",
    "DIR_RENDITIONS = join(DIR_ROOT, \"output/renditions\")\n",
    "DIR_CSVS = join(DIR_ROOT, \"output/csvs\")\n",
    "DIR_VISUALIZATIONS = join(DIR_ROOT, \"output/visualizations/region_props\")\n",
    "DIR_2ND_ORDER = join(DIR_CSVS, \"second_order_entropy\")\n",
    "\n",
    "makedirs(DIR_RENDITIONS, exist_ok=True)\n",
    "makedirs(DIR_CSVS, exist_ok=True)\n",
    "makedirs(DIR_VISUALIZATIONS, exist_ok=True)\n",
    "makedirs(DIR_2ND_ORDER, exist_ok=True)"
   ]
  },
  {
   "cell_type": "markdown",
   "id": "0ef51d63",
   "metadata": {},
   "source": [
    "# Define the rotation resolution and permute the possibilities"
   ]
  },
  {
   "cell_type": "code",
   "execution_count": 97,
   "id": "78392a53",
   "metadata": {},
   "outputs": [
    {
     "data": {
      "text/plain": [
       "8788"
      ]
     },
     "execution_count": 97,
     "metadata": {},
     "output_type": "execute_result"
    }
   ],
   "source": [
    "import numpy as np\n",
    "from itertools import product\n",
    "\n",
    "#define and generate the test angles\n",
    "possible_angles = [0, 30, 60, 90, 45]\n",
    "possible_angles = possible_angles + [angle + other_angle for angle, other_angle in zip(possible_angles, possible_angles)]\n",
    "possible_angles = possible_angles + [-angle for angle in possible_angles]\n",
    "#remove duplicates\n",
    "possible_angles = set(possible_angles)\n",
    "#expand the combinations\n",
    "euler_angle_sets = product(possible_angles, repeat=3)\n",
    "euler_angle_sets = list(euler_angle_sets)\n",
    "euler_array = np.array(euler_angle_sets)\n",
    "len(euler_angle_sets) * 4"
   ]
  },
  {
   "cell_type": "markdown",
   "id": "38f44c40",
   "metadata": {},
   "source": [
    "# Populate the Euler Angles dataframe"
   ]
  },
  {
   "cell_type": "code",
   "execution_count": 115,
   "id": "48dfc9b0",
   "metadata": {},
   "outputs": [
    {
     "data": {
      "text/html": [
       "<div><style>\n",
       ".dataframe > thead > tr,\n",
       ".dataframe > tbody > tr {\n",
       "  text-align: right;\n",
       "  white-space: pre-wrap;\n",
       "}\n",
       "</style>\n",
       "<small>shape: (8_788, 6)</small><table border=\"1\" class=\"dataframe\"><thead><tr><th>Index</th><th>KID_IDFrameKey</th><th>Object</th><th>Euler_X</th><th>Euler_Y</th><th>Euler_Z</th></tr><tr><td>i64</td><td>str</td><td>str</td><td>i64</td><td>i64</td><td>i64</td></tr></thead><tbody><tr><td>0</td><td>&quot;0_CribNovel&quot;</td><td>&quot;CribNovel&quot;</td><td>0</td><td>0</td><td>0</td></tr><tr><td>1</td><td>&quot;1_CribNovel&quot;</td><td>&quot;CribNovel&quot;</td><td>-30</td><td>0</td><td>0</td></tr><tr><td>2</td><td>&quot;2_CribNovel&quot;</td><td>&quot;CribNovel&quot;</td><td>-60</td><td>0</td><td>0</td></tr><tr><td>3</td><td>&quot;3_CribNovel&quot;</td><td>&quot;CribNovel&quot;</td><td>-90</td><td>0</td><td>0</td></tr><tr><td>4</td><td>&quot;4_CribNovel&quot;</td><td>&quot;CribNovel&quot;</td><td>-120</td><td>0</td><td>0</td></tr><tr><td>&hellip;</td><td>&hellip;</td><td>&hellip;</td><td>&hellip;</td><td>&hellip;</td><td>&hellip;</td></tr><tr><td>8783</td><td>&quot;8783_CameraNovel&quot;</td><td>&quot;CameraNovel&quot;</td><td>180</td><td>30</td><td>30</td></tr><tr><td>8784</td><td>&quot;8784_CameraNovel&quot;</td><td>&quot;CameraNovel&quot;</td><td>120</td><td>30</td><td>30</td></tr><tr><td>8785</td><td>&quot;8785_CameraNovel&quot;</td><td>&quot;CameraNovel&quot;</td><td>90</td><td>30</td><td>30</td></tr><tr><td>8786</td><td>&quot;8786_CameraNovel&quot;</td><td>&quot;CameraNovel&quot;</td><td>60</td><td>30</td><td>30</td></tr><tr><td>8787</td><td>&quot;8787_CameraNovel&quot;</td><td>&quot;CameraNovel&quot;</td><td>30</td><td>30</td><td>30</td></tr></tbody></table></div>"
      ],
      "text/plain": [
       "shape: (8_788, 6)\n",
       "┌───────┬──────────────────┬─────────────┬─────────┬─────────┬─────────┐\n",
       "│ Index ┆ KID_IDFrameKey   ┆ Object      ┆ Euler_X ┆ Euler_Y ┆ Euler_Z │\n",
       "│ ---   ┆ ---              ┆ ---         ┆ ---     ┆ ---     ┆ ---     │\n",
       "│ i64   ┆ str              ┆ str         ┆ i64     ┆ i64     ┆ i64     │\n",
       "╞═══════╪══════════════════╪═════════════╪═════════╪═════════╪═════════╡\n",
       "│ 0     ┆ 0_CribNovel      ┆ CribNovel   ┆ 0       ┆ 0       ┆ 0       │\n",
       "│ 1     ┆ 1_CribNovel      ┆ CribNovel   ┆ -30     ┆ 0       ┆ 0       │\n",
       "│ 2     ┆ 2_CribNovel      ┆ CribNovel   ┆ -60     ┆ 0       ┆ 0       │\n",
       "│ 3     ┆ 3_CribNovel      ┆ CribNovel   ┆ -90     ┆ 0       ┆ 0       │\n",
       "│ 4     ┆ 4_CribNovel      ┆ CribNovel   ┆ -120    ┆ 0       ┆ 0       │\n",
       "│ …     ┆ …                ┆ …           ┆ …       ┆ …       ┆ …       │\n",
       "│ 8783  ┆ 8783_CameraNovel ┆ CameraNovel ┆ 180     ┆ 30      ┆ 30      │\n",
       "│ 8784  ┆ 8784_CameraNovel ┆ CameraNovel ┆ 120     ┆ 30      ┆ 30      │\n",
       "│ 8785  ┆ 8785_CameraNovel ┆ CameraNovel ┆ 90      ┆ 30      ┆ 30      │\n",
       "│ 8786  ┆ 8786_CameraNovel ┆ CameraNovel ┆ 60      ┆ 30      ┆ 30      │\n",
       "│ 8787  ┆ 8787_CameraNovel ┆ CameraNovel ┆ 30      ┆ 30      ┆ 30      │\n",
       "└───────┴──────────────────┴─────────────┴─────────┴─────────┴─────────┘"
      ]
     },
     "execution_count": 115,
     "metadata": {},
     "output_type": "execute_result"
    }
   ],
   "source": [
    "import polars as pl\n",
    "from scipy.spatial.transform import Rotation\n",
    "from glob import glob\n",
    "\n",
    "EULER_ORDER = \"YZX\"\n",
    "\n",
    "DIR_OBJECTS = \"../data/PrefViews Null 3D objects\"\n",
    "CSV_ROTATION = join(DIR_CSVS, \"rotation_data.csv\")\n",
    "\n",
    "toy_paths = glob(join(DIR_OBJECTS, \"*.obj\"))\n",
    "toys = [splitext(basename(file))[0] for file in toy_paths]\n",
    "\n",
    "# Create DataFrames and cross join\n",
    "df_toys = pl.DataFrame({\"Object\": toys})\n",
    "df_angles = pl.DataFrame({\n",
    "    \"Euler_X\": euler_array[:, 2],\n",
    "    \"Euler_Y\": euler_array[:, 0],\n",
    "    \"Euler_Z\": euler_array[:, 1],\n",
    "})\n",
    "\n",
    "# Cross join = every toy with every angle\n",
    "DF_ROTATIONS = df_toys.join(df_angles, how=\"cross\")\n",
    "\n",
    "#Add index\n",
    "\n",
    "DF_ROTATIONS = DF_ROTATIONS.with_columns(\n",
    "    pl.arange(0, pl.len()).alias(\"Index\")\n",
    ")\n",
    "# Add primary key\n",
    "DF_ROTATIONS = DF_ROTATIONS.with_columns(\n",
    "    pl.concat_str([\n",
    "        pl.col(\"Index\"),\n",
    "        pl.lit(\"_\"),\n",
    "        pl.col(\"Object\")\n",
    "    ]).alias(\"KID_IDFrameKey\")\n",
    ").select([\n",
    "    \"Index\",\n",
    "    \"KID_IDFrameKey\",\n",
    "    pl.all().exclude([\"Index\", \"KID_IDFrameKey\"])\n",
    "])\n",
    "\n",
    "DF_ROTATIONS.write_csv(CSV_ROTATION)\n",
    "DF_ROTATIONS"
   ]
  },
  {
   "cell_type": "markdown",
   "id": "595d3267",
   "metadata": {},
   "source": [
    "# Generate the renditions for each rotation"
   ]
  },
  {
   "cell_type": "code",
   "execution_count": 99,
   "id": "09125cb0",
   "metadata": {},
   "outputs": [
    {
     "name": "stdout",
     "output_type": "stream",
     "text": [
      "Saving renditions to ../data/test_dataset/output/renditions\n"
     ]
    },
    {
     "name": "stderr",
     "output_type": "stream",
     "text": [
      "Generating Renditions: 100%|██████████| 8788/8788 [00:32<00:00, 273.14it/s]\n"
     ]
    }
   ],
   "source": [
    "from novel_toy_tools.utils.generate_renditions import generate_renditions_rot_mat\n",
    "\n",
    "generate_renditions_rot_mat(CSV_ROTATION, DIR_RENDITIONS, DIR_OBJECTS)"
   ]
  },
  {
   "cell_type": "markdown",
   "id": "984886db",
   "metadata": {},
   "source": [
    "# run the moments script from matlab\n",
    "### navigate to the src directory in matlab, run the printed script, and hit enter once you return"
   ]
  },
  {
   "cell_type": "code",
   "execution_count": null,
   "id": "04d9f2a8",
   "metadata": {},
   "outputs": [
    {
     "name": "stdout",
     "output_type": "stream",
     "text": [
      "navigate to the src directory in matlab, run the printed script, and hit enter once you return \n",
      "\n",
      "\n",
      "simple_region_props('../data/test_dataset/output/renditions','../data/test_dataset/output/csvs','*.jpg')\n"
     ]
    }
   ],
   "source": [
    "print(f\"simple_region_props('{DIR_RENDITIONS}','{DIR_CSVS}','*.jpg')\")"
   ]
  },
  {
   "cell_type": "code",
   "execution_count": null,
   "id": "28e0a0c6",
   "metadata": {},
   "outputs": [],
   "source": [
    "input(\"confirm that you have run the script\")"
   ]
  },
  {
   "cell_type": "markdown",
   "id": "09bdff4e",
   "metadata": {},
   "source": [
    "# zip together the csvs"
   ]
  },
  {
   "cell_type": "code",
   "execution_count": 123,
   "id": "d0101147",
   "metadata": {},
   "outputs": [],
   "source": [
    "CSV_REGION = join(DIR_CSVS, \"fit_ellipse_moments.csv\")\n",
    "\n",
    "DF_REGION = pl.read_csv(CSV_REGION)\n",
    "\n",
    "\n",
    "DF_MASTER = DF_ROTATIONS.join(\n",
    "    DF_REGION,\n",
    "    on='KID_IDFrameKey',\n",
    "    how='inner'\n",
    ").sort(\"Index\")\n",
    "\n",
    "DF_MASTER.write_csv(join(DIR_CSVS, \"combined_dataset.csv\"))"
   ]
  },
  {
   "cell_type": "markdown",
   "id": "68b8dbf8",
   "metadata": {},
   "source": [
    "# Now run the edge entropy script from matlab\n",
    "### navigate to the src directory in matlab, run the printed script, and hit enter once you return"
   ]
  },
  {
   "cell_type": "code",
   "execution_count": 122,
   "id": "351037f5",
   "metadata": {},
   "outputs": [
    {
     "name": "stdout",
     "output_type": "stream",
     "text": [
      "edge_entropy('../data/test_dataset/output/renditions','../data/test_dataset/output/csvs','../data/test_dataset/output/csvs/second_order_entropy')\n"
     ]
    }
   ],
   "source": [
    "print(f\"edge_entropy('{DIR_RENDITIONS}','{DIR_CSVS}','{DIR_2ND_ORDER}')\")"
   ]
  },
  {
   "cell_type": "code",
   "execution_count": null,
   "id": "34e01cf8",
   "metadata": {},
   "outputs": [],
   "source": [
    "input(\"confirm that you have run the script\")"
   ]
  }
 ],
 "metadata": {
  "kernelspec": {
   "display_name": "Python 3",
   "language": "python",
   "name": "python3"
  },
  "language_info": {
   "codemirror_mode": {
    "name": "ipython",
    "version": 3
   },
   "file_extension": ".py",
   "mimetype": "text/x-python",
   "name": "python",
   "nbconvert_exporter": "python",
   "pygments_lexer": "ipython3",
   "version": "3.9.23"
  }
 },
 "nbformat": 4,
 "nbformat_minor": 5
}
