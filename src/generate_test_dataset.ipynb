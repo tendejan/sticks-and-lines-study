{
 "cells": [
  {
   "cell_type": "code",
   "execution_count": null,
   "id": "57fd2b3f",
   "metadata": {},
   "outputs": [],
   "source": [
    "from os import makedirs\n",
    "from os.path import join, splitext, basename\n",
    "DIR_ROOT = \"../data/test_dataset\"\n",
    "DIR_RENDITIONS = join(DIR_ROOT, \"output/renditions\")\n",
    "DIR_CSVS = join(DIR_ROOT, \"output/csvs\")\n",
    "DIR_VISUALIZATIONS = join(DIR_ROOT, \"output/visualizations/region_props\")\n",
    "DIR_2ND_ORDER = join(DIR_CSVS, \"second_order_entropy\")\n",
    "\n",
    "makedirs(DIR_RENDITIONS, exist_ok=True)\n",
    "makedirs(DIR_CSVS, exist_ok=True)\n",
    "makedirs(DIR_VISUALIZATIONS, exist_ok=True)\n",
    "makedirs(DIR_2ND_ORDER, exist_ok=True)"
   ]
  },
  {
   "cell_type": "markdown",
   "id": "0ef51d63",
   "metadata": {},
   "source": [
    "# generate 8k random rotations"
   ]
  },
  {
   "cell_type": "code",
   "execution_count": null,
   "id": "78392a53",
   "metadata": {},
   "outputs": [
    {
     "data": {
      "text/plain": [
       "8788"
      ]
     },
     "execution_count": 97,
     "metadata": {},
     "output_type": "execute_result"
    }
   ],
   "source": [
    "from numpy.random import MT19937\n",
    "import numpy as np\n",
    "from scipy.spatial.transform import Rotation\n",
    "\n",
    "RANDOM_SEED = 42\n",
    "SAMPLE_SIZE = 8000\n",
    "EULER_ORDER = \"YZX\"\n",
    "\n",
    "\n",
    "rng = np.random.Generator(MT19937(RANDOM_SEED))\n",
    "euler_array = Rotation.random(SAMPLE_SIZE, random_state=rng).as_euler(seq=EULER_ORDER, degrees=True)\n",
    "\n",
    "euler_array"
   ]
  },
  {
   "cell_type": "markdown",
   "id": "38f44c40",
   "metadata": {},
   "source": [
    "# Populate the Euler Angles dataframe"
   ]
  },
  {
   "cell_type": "code",
   "execution_count": null,
   "id": "48dfc9b0",
   "metadata": {},
   "outputs": [
    {
     "data": {
      "text/html": [
       "<div><style>\n",
       ".dataframe > thead > tr,\n",
       ".dataframe > tbody > tr {\n",
       "  text-align: right;\n",
       "  white-space: pre-wrap;\n",
       "}\n",
       "</style>\n",
       "<small>shape: (8_788, 6)</small><table border=\"1\" class=\"dataframe\"><thead><tr><th>Index</th><th>KID_IDFrameKey</th><th>Object</th><th>Euler_X</th><th>Euler_Y</th><th>Euler_Z</th></tr><tr><td>i64</td><td>str</td><td>str</td><td>i64</td><td>i64</td><td>i64</td></tr></thead><tbody><tr><td>0</td><td>&quot;0_CribNovel&quot;</td><td>&quot;CribNovel&quot;</td><td>0</td><td>0</td><td>0</td></tr><tr><td>1</td><td>&quot;1_CribNovel&quot;</td><td>&quot;CribNovel&quot;</td><td>-30</td><td>0</td><td>0</td></tr><tr><td>2</td><td>&quot;2_CribNovel&quot;</td><td>&quot;CribNovel&quot;</td><td>-60</td><td>0</td><td>0</td></tr><tr><td>3</td><td>&quot;3_CribNovel&quot;</td><td>&quot;CribNovel&quot;</td><td>-90</td><td>0</td><td>0</td></tr><tr><td>4</td><td>&quot;4_CribNovel&quot;</td><td>&quot;CribNovel&quot;</td><td>-120</td><td>0</td><td>0</td></tr><tr><td>&hellip;</td><td>&hellip;</td><td>&hellip;</td><td>&hellip;</td><td>&hellip;</td><td>&hellip;</td></tr><tr><td>8783</td><td>&quot;8783_CameraNovel&quot;</td><td>&quot;CameraNovel&quot;</td><td>180</td><td>30</td><td>30</td></tr><tr><td>8784</td><td>&quot;8784_CameraNovel&quot;</td><td>&quot;CameraNovel&quot;</td><td>120</td><td>30</td><td>30</td></tr><tr><td>8785</td><td>&quot;8785_CameraNovel&quot;</td><td>&quot;CameraNovel&quot;</td><td>90</td><td>30</td><td>30</td></tr><tr><td>8786</td><td>&quot;8786_CameraNovel&quot;</td><td>&quot;CameraNovel&quot;</td><td>60</td><td>30</td><td>30</td></tr><tr><td>8787</td><td>&quot;8787_CameraNovel&quot;</td><td>&quot;CameraNovel&quot;</td><td>30</td><td>30</td><td>30</td></tr></tbody></table></div>"
      ],
      "text/plain": [
       "shape: (8_788, 6)\n",
       "┌───────┬──────────────────┬─────────────┬─────────┬─────────┬─────────┐\n",
       "│ Index ┆ KID_IDFrameKey   ┆ Object      ┆ Euler_X ┆ Euler_Y ┆ Euler_Z │\n",
       "│ ---   ┆ ---              ┆ ---         ┆ ---     ┆ ---     ┆ ---     │\n",
       "│ i64   ┆ str              ┆ str         ┆ i64     ┆ i64     ┆ i64     │\n",
       "╞═══════╪══════════════════╪═════════════╪═════════╪═════════╪═════════╡\n",
       "│ 0     ┆ 0_CribNovel      ┆ CribNovel   ┆ 0       ┆ 0       ┆ 0       │\n",
       "│ 1     ┆ 1_CribNovel      ┆ CribNovel   ┆ -30     ┆ 0       ┆ 0       │\n",
       "│ 2     ┆ 2_CribNovel      ┆ CribNovel   ┆ -60     ┆ 0       ┆ 0       │\n",
       "│ 3     ┆ 3_CribNovel      ┆ CribNovel   ┆ -90     ┆ 0       ┆ 0       │\n",
       "│ 4     ┆ 4_CribNovel      ┆ CribNovel   ┆ -120    ┆ 0       ┆ 0       │\n",
       "│ …     ┆ …                ┆ …           ┆ …       ┆ …       ┆ …       │\n",
       "│ 8783  ┆ 8783_CameraNovel ┆ CameraNovel ┆ 180     ┆ 30      ┆ 30      │\n",
       "│ 8784  ┆ 8784_CameraNovel ┆ CameraNovel ┆ 120     ┆ 30      ┆ 30      │\n",
       "│ 8785  ┆ 8785_CameraNovel ┆ CameraNovel ┆ 90      ┆ 30      ┆ 30      │\n",
       "│ 8786  ┆ 8786_CameraNovel ┆ CameraNovel ┆ 60      ┆ 30      ┆ 30      │\n",
       "│ 8787  ┆ 8787_CameraNovel ┆ CameraNovel ┆ 30      ┆ 30      ┆ 30      │\n",
       "└───────┴──────────────────┴─────────────┴─────────┴─────────┴─────────┘"
      ]
     },
     "execution_count": 115,
     "metadata": {},
     "output_type": "execute_result"
    }
   ],
   "source": [
    "import polars as pl\n",
    "from scipy.spatial.transform import Rotation\n",
    "from glob import glob\n",
    "\n",
    "\n",
    "DIR_OBJECTS = \"../data/PrefViews Null 3D objects\"\n",
    "CSV_ROTATION = join(DIR_CSVS, \"rotation_data.csv\")\n",
    "\n",
    "toy_paths = glob(join(DIR_OBJECTS, \"*.obj\"))\n",
    "toys = [splitext(basename(file))[0] for file in toy_paths]\n",
    "\n",
    "# Create DataFrames and join\n",
    "toys_series = [toys[i%len(toys)] for i in range(SAMPLE_SIZE)]\n",
    "df_toys = pl.DataFrame({\"Object\": toys_series})\n",
    "df_angles = pl.DataFrame({\n",
    "    \"Euler_X\": euler_array[:, 2],\n",
    "    \"Euler_Y\": euler_array[:, 0],\n",
    "    \"Euler_Z\": euler_array[:, 1],\n",
    "})\n",
    "\n",
    "# Cross join = every toy with every angle\n",
    "DF_ROTATIONS = pl.DataFrame({\n",
    "    'Object': toys_series,\n",
    "    \"Euler_X\": euler_array[:, 2],\n",
    "    \"Euler_Y\": euler_array[:, 0],\n",
    "    \"Euler_Z\": euler_array[:, 1],\n",
    "})\n",
    "\n",
    "#Add index\n",
    "\n",
    "DF_ROTATIONS = DF_ROTATIONS.with_columns(\n",
    "    pl.arange(0, pl.len()).alias(\"Index\")\n",
    ")\n",
    "# Add primary key\n",
    "DF_ROTATIONS = DF_ROTATIONS.with_columns(\n",
    "    pl.concat_str([\n",
    "        pl.col(\"Index\"),\n",
    "        pl.lit(\"_\"),\n",
    "        pl.col(\"Object\")\n",
    "    ]).alias(\"KID_IDFrameKey\")\n",
    ").select([\n",
    "    \"Index\",\n",
    "    \"KID_IDFrameKey\",\n",
    "    pl.all().exclude([\"Index\", \"KID_IDFrameKey\"])\n",
    "])\n",
    "\n",
    "DF_ROTATIONS.write_csv(CSV_ROTATION)\n",
    "DF_ROTATIONS"
   ]
  },
  {
   "cell_type": "markdown",
   "id": "595d3267",
   "metadata": {},
   "source": [
    "# Generate the renditions for each rotation"
   ]
  },
  {
   "cell_type": "code",
   "execution_count": null,
   "id": "09125cb0",
   "metadata": {},
   "outputs": [
    {
     "name": "stdout",
     "output_type": "stream",
     "text": [
      "Saving renditions to ../data/test_dataset/output/renditions\n"
     ]
    },
    {
     "name": "stderr",
     "output_type": "stream",
     "text": [
      "Generating Renditions: 100%|██████████| 8788/8788 [00:32<00:00, 273.14it/s]\n"
     ]
    }
   ],
   "source": [
    "from novel_toy_tools.utils.generate_renditions import generate_renditions_rot_mat\n",
    "\n",
    "generate_renditions_rot_mat(CSV_ROTATION, DIR_RENDITIONS, DIR_OBJECTS)"
   ]
  },
  {
   "cell_type": "markdown",
   "id": "984886db",
   "metadata": {},
   "source": [
    "# run the moments script from matlab\n",
    "### navigate to the src directory in matlab, run the printed script, and hit enter once you return"
   ]
  },
  {
   "cell_type": "code",
   "execution_count": null,
   "id": "04d9f2a8",
   "metadata": {},
   "outputs": [
    {
     "name": "stdout",
     "output_type": "stream",
     "text": [
      "navigate to the src directory in matlab, run the printed script, and hit enter once you return \n",
      "\n",
      "\n",
      "simple_region_props('../data/test_dataset/output/renditions','../data/test_dataset/output/csvs','*.jpg')\n"
     ]
    }
   ],
   "source": [
    "print(f\"simple_region_props('{DIR_RENDITIONS}','{DIR_CSVS}','*.jpg')\")"
   ]
  },
  {
   "cell_type": "code",
   "execution_count": null,
   "id": "28e0a0c6",
   "metadata": {},
   "outputs": [],
   "source": [
    "input(\"confirm that you have run the script\")"
   ]
  },
  {
   "cell_type": "markdown",
   "id": "09bdff4e",
   "metadata": {},
   "source": [
    "# zip together the csvs"
   ]
  },
  {
   "cell_type": "code",
   "execution_count": null,
   "id": "d0101147",
   "metadata": {},
   "outputs": [
    {
     "data": {
      "text/html": [
       "<div><style>\n",
       ".dataframe > thead > tr,\n",
       ".dataframe > tbody > tr {\n",
       "  text-align: right;\n",
       "  white-space: pre-wrap;\n",
       "}\n",
       "</style>\n",
       "<small>shape: (8_788, 14)</small><table border=\"1\" class=\"dataframe\"><thead><tr><th>Index</th><th>KID_IDFrameKey</th><th>Object</th><th>Euler_X</th><th>Euler_Y</th><th>Euler_Z</th><th>image</th><th>centroid_x</th><th>centroid_y</th><th>axis_major_length</th><th>axis_minor_length</th><th>axis_ratio_minor_to_major</th><th>orientation_radians</th><th>orientation_degrees</th></tr><tr><td>i64</td><td>str</td><td>str</td><td>i64</td><td>i64</td><td>i64</td><td>str</td><td>f64</td><td>f64</td><td>f64</td><td>f64</td><td>f64</td><td>f64</td><td>f64</td></tr></thead><tbody><tr><td>0</td><td>&quot;0_CribNovel&quot;</td><td>&quot;CribNovel&quot;</td><td>0</td><td>0</td><td>0</td><td>&quot;0_CribNovel.jpg&quot;</td><td>412.067262</td><td>278.440639</td><td>105.729184</td><td>76.443295</td><td>0.72301</td><td>0.000376</td><td>0.021537</td></tr><tr><td>1</td><td>&quot;1_CribNovel&quot;</td><td>&quot;CribNovel&quot;</td><td>-30</td><td>0</td><td>0</td><td>&quot;1_CribNovel.jpg&quot;</td><td>411.701967</td><td>291.256074</td><td>104.709007</td><td>91.549189</td><td>0.87432</td><td>0.030473</td><td>1.745961</td></tr><tr><td>2</td><td>&quot;2_CribNovel&quot;</td><td>&quot;CribNovel&quot;</td><td>-60</td><td>0</td><td>0</td><td>&quot;2_CribNovel.jpg&quot;</td><td>411.305147</td><td>311.200608</td><td>105.735888</td><td>91.125251</td><td>0.86182</td><td>0.033152</td><td>1.899454</td></tr><tr><td>3</td><td>&quot;3_CribNovel&quot;</td><td>&quot;CribNovel&quot;</td><td>-90</td><td>0</td><td>0</td><td>&quot;3_CribNovel.jpg&quot;</td><td>412.442549</td><td>326.901344</td><td>115.348057</td><td>71.428241</td><td>0.619241</td><td>-0.004106</td><td>-0.235236</td></tr><tr><td>4</td><td>&quot;4_CribNovel&quot;</td><td>&quot;CribNovel&quot;</td><td>-120</td><td>0</td><td>0</td><td>&quot;4_CribNovel.jpg&quot;</td><td>411.299732</td><td>327.079881</td><td>109.97805</td><td>93.214542</td><td>0.847574</td><td>-0.005443</td><td>-0.311872</td></tr><tr><td>&hellip;</td><td>&hellip;</td><td>&hellip;</td><td>&hellip;</td><td>&hellip;</td><td>&hellip;</td><td>&hellip;</td><td>&hellip;</td><td>&hellip;</td><td>&hellip;</td><td>&hellip;</td><td>&hellip;</td><td>&hellip;</td><td>&hellip;</td></tr><tr><td>8783</td><td>&quot;8783_CameraNovel&quot;</td><td>&quot;CameraNovel&quot;</td><td>180</td><td>30</td><td>30</td><td>&quot;8783_CameraNovel.jpg&quot;</td><td>408.010113</td><td>316.830616</td><td>82.71998</td><td>31.62052</td><td>0.38226</td><td>0.466898</td><td>26.751306</td></tr><tr><td>8784</td><td>&quot;8784_CameraNovel&quot;</td><td>&quot;CameraNovel&quot;</td><td>120</td><td>30</td><td>30</td><td>&quot;8784_CameraNovel.jpg&quot;</td><td>407.372467</td><td>307.448669</td><td>79.11616</td><td>50.049199</td><td>0.632604</td><td>0.855754</td><td>49.031072</td></tr><tr><td>8785</td><td>&quot;8785_CameraNovel&quot;</td><td>&quot;CameraNovel&quot;</td><td>90</td><td>30</td><td>30</td><td>&quot;8785_CameraNovel.jpg&quot;</td><td>405.311555</td><td>302.1152</td><td>76.158048</td><td>61.997556</td><td>0.814064</td><td>0.835486</td><td>47.869817</td></tr><tr><td>8786</td><td>&quot;8786_CameraNovel&quot;</td><td>&quot;CameraNovel&quot;</td><td>60</td><td>30</td><td>30</td><td>&quot;8786_CameraNovel.jpg&quot;</td><td>400.797659</td><td>295.470704</td><td>76.19177</td><td>62.689658</td><td>0.822788</td><td>0.396839</td><td>22.737196</td></tr><tr><td>8787</td><td>&quot;8787_CameraNovel&quot;</td><td>&quot;CameraNovel&quot;</td><td>30</td><td>30</td><td>30</td><td>&quot;8787_CameraNovel.jpg&quot;</td><td>396.733317</td><td>291.338928</td><td>79.460619</td><td>51.6752</td><td>0.650325</td><td>0.325152</td><td>18.629833</td></tr></tbody></table></div>"
      ],
      "text/plain": [
       "shape: (8_788, 14)\n",
       "┌───────┬────────────┬────────────┬─────────┬───┬────────────┬────────────┬────────────┬───────────┐\n",
       "│ Index ┆ KID_IDFram ┆ Object     ┆ Euler_X ┆ … ┆ axis_minor ┆ axis_ratio ┆ orientatio ┆ orientati │\n",
       "│ ---   ┆ eKey       ┆ ---        ┆ ---     ┆   ┆ _length    ┆ _minor_to_ ┆ n_radians  ┆ on_degree │\n",
       "│ i64   ┆ ---        ┆ str        ┆ i64     ┆   ┆ ---        ┆ major      ┆ ---        ┆ s         │\n",
       "│       ┆ str        ┆            ┆         ┆   ┆ f64        ┆ ---        ┆ f64        ┆ ---       │\n",
       "│       ┆            ┆            ┆         ┆   ┆            ┆ f64        ┆            ┆ f64       │\n",
       "╞═══════╪════════════╪════════════╪═════════╪═══╪════════════╪════════════╪════════════╪═══════════╡\n",
       "│ 0     ┆ 0_CribNove ┆ CribNovel  ┆ 0       ┆ … ┆ 76.443295  ┆ 0.72301    ┆ 0.000376   ┆ 0.021537  │\n",
       "│       ┆ l          ┆            ┆         ┆   ┆            ┆            ┆            ┆           │\n",
       "│ 1     ┆ 1_CribNove ┆ CribNovel  ┆ -30     ┆ … ┆ 91.549189  ┆ 0.87432    ┆ 0.030473   ┆ 1.745961  │\n",
       "│       ┆ l          ┆            ┆         ┆   ┆            ┆            ┆            ┆           │\n",
       "│ 2     ┆ 2_CribNove ┆ CribNovel  ┆ -60     ┆ … ┆ 91.125251  ┆ 0.86182    ┆ 0.033152   ┆ 1.899454  │\n",
       "│       ┆ l          ┆            ┆         ┆   ┆            ┆            ┆            ┆           │\n",
       "│ 3     ┆ 3_CribNove ┆ CribNovel  ┆ -90     ┆ … ┆ 71.428241  ┆ 0.619241   ┆ -0.004106  ┆ -0.235236 │\n",
       "│       ┆ l          ┆            ┆         ┆   ┆            ┆            ┆            ┆           │\n",
       "│ 4     ┆ 4_CribNove ┆ CribNovel  ┆ -120    ┆ … ┆ 93.214542  ┆ 0.847574   ┆ -0.005443  ┆ -0.311872 │\n",
       "│       ┆ l          ┆            ┆         ┆   ┆            ┆            ┆            ┆           │\n",
       "│ …     ┆ …          ┆ …          ┆ …       ┆ … ┆ …          ┆ …          ┆ …          ┆ …         │\n",
       "│ 8783  ┆ 8783_Camer ┆ CameraNove ┆ 180     ┆ … ┆ 31.62052   ┆ 0.38226    ┆ 0.466898   ┆ 26.751306 │\n",
       "│       ┆ aNovel     ┆ l          ┆         ┆   ┆            ┆            ┆            ┆           │\n",
       "│ 8784  ┆ 8784_Camer ┆ CameraNove ┆ 120     ┆ … ┆ 50.049199  ┆ 0.632604   ┆ 0.855754   ┆ 49.031072 │\n",
       "│       ┆ aNovel     ┆ l          ┆         ┆   ┆            ┆            ┆            ┆           │\n",
       "│ 8785  ┆ 8785_Camer ┆ CameraNove ┆ 90      ┆ … ┆ 61.997556  ┆ 0.814064   ┆ 0.835486   ┆ 47.869817 │\n",
       "│       ┆ aNovel     ┆ l          ┆         ┆   ┆            ┆            ┆            ┆           │\n",
       "│ 8786  ┆ 8786_Camer ┆ CameraNove ┆ 60      ┆ … ┆ 62.689658  ┆ 0.822788   ┆ 0.396839   ┆ 22.737196 │\n",
       "│       ┆ aNovel     ┆ l          ┆         ┆   ┆            ┆            ┆            ┆           │\n",
       "│ 8787  ┆ 8787_Camer ┆ CameraNove ┆ 30      ┆ … ┆ 51.6752    ┆ 0.650325   ┆ 0.325152   ┆ 18.629833 │\n",
       "│       ┆ aNovel     ┆ l          ┆         ┆   ┆            ┆            ┆            ┆           │\n",
       "└───────┴────────────┴────────────┴─────────┴───┴────────────┴────────────┴────────────┴───────────┘"
      ]
     },
     "execution_count": 117,
     "metadata": {},
     "output_type": "execute_result"
    }
   ],
   "source": [
    "CSV_REGION = join(DIR_CSVS, \"fit_ellipse_moments.csv\")\n",
    "\n",
    "DF_REGION = pl.read_csv(CSV_REGION)\n",
    "\n",
    "\n",
    "DF_MASTER = DF_ROTATIONS.join(\n",
    "    DF_REGION,\n",
    "    on='KID_IDFrameKey',\n",
    "    how='inner'\n",
    ").sort(\"Index\")\n",
    "\n",
    "DF_MASTER.write_csv(join(DIR_CSVS, \"combined_dataset.csv\"))\n",
    "DF_MASTER"
   ]
  },
  {
   "cell_type": "markdown",
   "id": "68b8dbf8",
   "metadata": {},
   "source": [
    "# Now run the edge entropy script from matlab\n",
    "### navigate to the src directory in matlab, run the printed script, and hit enter once you return"
   ]
  },
  {
   "cell_type": "code",
   "execution_count": 122,
   "id": "351037f5",
   "metadata": {},
   "outputs": [
    {
     "name": "stdout",
     "output_type": "stream",
     "text": [
      "edge_entropy('../data/test_dataset/output/renditions','../data/test_dataset/output/csvs','../data/test_dataset/output/csvs/second_order_entropy')\n"
     ]
    }
   ],
   "source": [
    "print(f\"edge_entropy('{DIR_RENDITIONS}','{DIR_CSVS}','{DIR_2ND_ORDER}')\")"
   ]
  },
  {
   "cell_type": "code",
   "execution_count": null,
   "id": "34e01cf8",
   "metadata": {},
   "outputs": [],
   "source": [
    "input(\"confirm that you have run the script\")"
   ]
  }
 ],
 "metadata": {
  "kernelspec": {
   "display_name": "Python 3",
   "language": "python",
   "name": "python3"
  },
  "language_info": {
   "codemirror_mode": {
    "name": "ipython",
    "version": 3
   },
   "file_extension": ".py",
   "mimetype": "text/x-python",
   "name": "python",
   "nbconvert_exporter": "python",
   "pygments_lexer": "ipython3",
   "version": "3.9.23"
  }
 },
 "nbformat": 4,
 "nbformat_minor": 5
}
